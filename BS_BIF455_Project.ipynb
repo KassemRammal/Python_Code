{
  "nbformat": 4,
  "nbformat_minor": 0,
  "metadata": {
    "colab": {
      "provenance": [],
      "authorship_tag": "ABX9TyO6OW4aqKeuAwJnOlJQVEbw",
      "include_colab_link": true
    },
    "kernelspec": {
      "name": "python3",
      "display_name": "Python 3"
    },
    "language_info": {
      "name": "python"
    }
  },
  "cells": [
    {
      "cell_type": "markdown",
      "metadata": {
        "id": "view-in-github",
        "colab_type": "text"
      },
      "source": [
        "<a href=\"https://colab.research.google.com/github/KassemRammal/Python_Code/blob/main/BS_BIF455_Project.ipynb\" target=\"_parent\"><img src=\"https://colab.research.google.com/assets/colab-badge.svg\" alt=\"Open In Colab\"/></a>"
      ]
    },
    {
      "cell_type": "markdown",
      "metadata": {
        "id": "8z0LVUnxbAXZ"
      },
      "source": [
        "# Topological Index Calculator\n",
        "This notebook calculates different topological indices (Edge Density, Wiener Index, Petitjean Index) from molecular structures.\n",
        "\n",
        "created by Kassem Rammal and Georgy Zaouk\n"
      ]
    },
    {
      "cell_type": "code",
      "execution_count": null,
      "metadata": {
        "id": "MCwzhD6QbAXb",
        "outputId": "c955a79d-47f7-4a53-e389-e4314db33331",
        "colab": {
          "base_uri": "https://localhost:8080/"
        }
      },
      "outputs": [
        {
          "output_type": "stream",
          "name": "stdout",
          "text": [
            "Requirement already satisfied: rdkit-pypi in /usr/local/lib/python3.11/dist-packages (2022.9.5)\n",
            "Requirement already satisfied: numpy in /usr/local/lib/python3.11/dist-packages (from rdkit-pypi) (2.0.2)\n",
            "Requirement already satisfied: Pillow in /usr/local/lib/python3.11/dist-packages (from rdkit-pypi) (11.1.0)\n"
          ]
        }
      ],
      "source": [
        "!pip install rdkit-pypi\n",
        "import os\n",
        "import sys\n",
        "import requests\n",
        "from urllib.parse import urlparse\n",
        "from rdkit import Chem\n",
        "from rdkit.Chem import AllChem\n",
        "import networkx as nx\n",
        "from rdkit.Chem import Draw\n",
        "from IPython.display import display\n"
      ]
    },
    {
      "cell_type": "markdown",
      "source": [
        "### Function: Upload files"
      ],
      "metadata": {
        "id": "rzVt2IQihuwx"
      }
    },
    {
      "cell_type": "code",
      "source": [
        "from google.colab import files\n",
        "\n",
        "def upload_files():\n",
        "    print(\"\\n📁 Upload your .mol/.sdf file(s), or a .zip folder containing them:\")\n",
        "    uploaded = files.upload()\n",
        "    filenames = list(uploaded.keys())\n",
        "    # Validate file types immediately after upload\n",
        "    allowed_exts = ('.mol', '.sdf', '.zip')\n",
        "    if not all(fname.lower().endswith(allowed_exts) for fname in filenames):\n",
        "        print(\"❌ Please upload only .mol, .sdf, or .zip files.\")\n",
        "        sys.exit(1)\n",
        "\n",
        "    # Handle ZIP folder upload\n",
        "    if any(fname.endswith('.zip') for fname in filenames):\n",
        "        import zipfile\n",
        "        import shutil\n",
        "\n",
        "        for fname in filenames:\n",
        "            if fname.endswith('.zip'):\n",
        "                extract_dir = '/content/uploaded_folder'\n",
        "                os.makedirs(extract_dir, exist_ok=True)\n",
        "                with zipfile.ZipFile(fname, 'r') as zip_ref:\n",
        "                    zip_ref.extractall(extract_dir)\n",
        "                print(f\"✔️ Extracted ZIP contents to {extract_dir}\")\n",
        "                return extract_dir\n",
        "    elif len(filenames) == 1:\n",
        "        return filenames[0]\n",
        "    else:\n",
        "        # Multiple mol/sdf files uploaded, move to a dedicated folder\n",
        "        folder_path = '/content/uploaded_files'\n",
        "        os.makedirs(folder_path, exist_ok=True)\n",
        "        for fname in filenames:\n",
        "            os.rename(fname, os.path.join(folder_path, fname))\n",
        "        return folder_path\n"
      ],
      "metadata": {
        "id": "7u-mR-hqhs8N"
      },
      "execution_count": null,
      "outputs": []
    },
    {
      "cell_type": "markdown",
      "metadata": {
        "id": "tFsp1tuRbAXe"
      },
      "source": [
        "### Function: Get file from PUBCHEM ID"
      ]
    },
    {
      "cell_type": "code",
      "execution_count": null,
      "metadata": {
        "id": "VDAeeNwgbAXe"
      },
      "outputs": [],
      "source": [
        "def download_from_pubchem(cid, file_format='sdf'):\n",
        "    sdf_url = f'https://pubchem.ncbi.nlm.nih.gov/rest/pug/compound/CID/{cid}/record/SDF?record_type=2d&response_type=save&response_basename=Structure2D_COMPOUND_CID_{cid}'\n",
        "    name_url = f'https://pubchem.ncbi.nlm.nih.gov/rest/pug/compound/cid/{cid}/property/Title/TXT'\n",
        "\n",
        "    # Download SDF\n",
        "    sdf_filename = f'{cid}.{file_format}'\n",
        "    response = requests.get(sdf_url)\n",
        "    if response.status_code == 200:\n",
        "        with open(sdf_filename, 'wb') as file:\n",
        "            file.write(response.content)\n",
        "        print(f'✔️ Downloaded PubChem CID {cid} as {sdf_filename}')\n",
        "    else:\n",
        "        print(f'❌ Failed to fetch compound structure. Status code: {response.status_code}')\n",
        "        sys.exit(1)\n",
        "\n",
        "    # Get compound name\n",
        "    response = requests.get(name_url)\n",
        "    if response.status_code == 200:\n",
        "        name = response.text.strip()\n",
        "        return sdf_filename, cid, name\n",
        "    else:\n",
        "        print(f'❌ Failed to fetch compound name. Status code: {response.status_code}')\n",
        "        return sdf_filename, cid, cid  # fallback\n"
      ]
    },
    {
      "cell_type": "markdown",
      "source": [
        "###Function: Provide pubchem id or upload file directly"
      ],
      "metadata": {
        "id": "oJpkUGcgi00K"
      }
    },
    {
      "cell_type": "code",
      "source": [
        "def get_input_path():\n",
        "    print(\"Choose your input source:\")\n",
        "    print(\"1 - Provide a PubChem CID\")\n",
        "    print(\"2 - Upload one or more .mol or .sdf files, or a ZIP folder of them\")\n",
        "\n",
        "    choice = input(\"Enter your choice (1 or 2): \").strip()\n",
        "\n",
        "    if choice == '1':\n",
        "        cid = input(\"Enter the CID: \").strip()\n",
        "        filename, cid, name = download_from_pubchem(cid)\n",
        "        return filename, 'cid', [(name, cid, Chem.MolFromMolFile(filename))]\n",
        "    elif choice == '2':\n",
        "        path = upload_files()\n",
        "        return path, detect_input_type(path), None\n",
        "    else:\n",
        "        print(\"Invalid choice.\")\n",
        "        sys.exit(1)\n"
      ],
      "metadata": {
        "id": "U6qcETRgi1WV"
      },
      "execution_count": null,
      "outputs": []
    },
    {
      "cell_type": "markdown",
      "metadata": {
        "id": "9pdR8jrobAXf"
      },
      "source": [
        "### Function: detect_input_type\n",
        "The **USER** has the freedom to enter a file with a specific type. This function does the following:\n",
        "  - Identifies the type of the input (whether it's a file, folder, or URL),\n",
        "  - Takes the appropriate processing steps."
      ]
    },
    {
      "cell_type": "code",
      "execution_count": null,
      "metadata": {
        "id": "x1Mmm85mbAXf"
      },
      "outputs": [],
      "source": [
        "def detect_input_type(input_path):\n",
        "    if os.path.isdir(input_path):\n",
        "        return 'mol_folder'\n",
        "    elif input_path.endswith('.mol'):\n",
        "        return 'mol_file'\n",
        "    elif input_path.endswith('.sdf'):\n",
        "        return 'sdf_file'\n",
        "    else:\n",
        "        print('Unsupported file type. Please provide a .mol file, folder, or .sdf file.')\n",
        "        sys.exit(1)\n"
      ]
    },
    {
      "cell_type": "markdown",
      "metadata": {
        "id": "0RMaFmYCbAXc"
      },
      "source": [
        "### Function: get_index_choice"
      ]
    },
    {
      "cell_type": "code",
      "execution_count": null,
      "metadata": {
        "id": "Pqjy_eIxbAXd"
      },
      "outputs": [],
      "source": [
        "def get_index_choice():\n",
        "    while True:\n",
        "        print('Which topological index would you like to calculate?')\n",
        "        print('1 - Edge Density')\n",
        "        print('2 - Wiener Index')\n",
        "        print('3 - Petitjean Index')\n",
        "        print('4 - All of the above')\n",
        "\n",
        "        choice = input('Enter your choice (1-4): ').strip()\n",
        "\n",
        "        options = {\n",
        "            '1': 'edge',\n",
        "            '2': 'wiener',\n",
        "            '3': 'petitjean',\n",
        "            '4': 'all'\n",
        "        }\n",
        "\n",
        "        selected = options.get(choice)\n",
        "        if selected:\n",
        "            return selected\n",
        "        print('Invalid choice. Please select 1, 2, 3, or 4.')\n"
      ]
    },
    {
      "cell_type": "markdown",
      "metadata": {
        "id": "O3vxFpdvbAXf"
      },
      "source": [
        "###Function: Read the files and compute necessary indices\n",
        "\n",
        "\n",
        "**bold text**### Example Usage\n",
        "The following code demonstrates how to use the functions to select an index, input a file or folder, and determine the file type. It also shows how to combine all functions to compute the selected topological index."
      ]
    },
    {
      "cell_type": "code",
      "execution_count": null,
      "metadata": {
        "id": "eVwKt9_ibAXg"
      },
      "outputs": [],
      "source": [
        "def read_molecules(input_path, input_type):\n",
        "    molecules = []\n",
        "    if input_type == 'mol_file':\n",
        "        mol = Chem.MolFromMolFile(input_path)\n",
        "        if mol:\n",
        "            name = mol.GetProp('_Name') if mol.HasProp('_Name') else os.path.basename(input_path)\n",
        "            cid = name.split('.')[0]  # Try extracting CID from filename\n",
        "            molecules.append((name, cid, mol))\n",
        "    elif input_type == 'mol_folder':\n",
        "        for filename in os.listdir(input_path):\n",
        "            if filename.lower().endswith('.mol'):\n",
        "                full_path = os.path.join(input_path, filename)\n",
        "                mol = Chem.MolFromMolFile(full_path)\n",
        "                if mol:\n",
        "                    name = mol.GetProp('_Name') if mol.HasProp('_Name') else filename\n",
        "                    cid = name.split('.')[0]\n",
        "                    molecules.append((name, cid, mol))\n",
        "    elif input_type == 'sdf_file':\n",
        "        suppl = Chem.SDMolSupplier(input_path)\n",
        "        for i, mol in enumerate(suppl):\n",
        "            if mol:\n",
        "                name = mol.GetProp('_Name') if mol.HasProp('_Name') else f'molecule_{i+1}'\n",
        "                cid = mol.GetProp('PUBCHEM_COMPOUND_CID') if mol.HasProp('PUBCHEM_COMPOUND_CID') else name\n",
        "                molecules.append((name, cid, mol))\n",
        "    return molecules\n"
      ]
    },
    {
      "cell_type": "markdown",
      "source": [
        "###Functions: Indices calculation"
      ],
      "metadata": {
        "id": "hGwJgnfYnAva"
      }
    },
    {
      "cell_type": "code",
      "execution_count": null,
      "metadata": {
        "id": "z2ixw7bTbAXg"
      },
      "outputs": [],
      "source": [
        "def mol_to_graph(mol):\n",
        "    G = nx.Graph()\n",
        "    for atom in mol.GetAtoms():\n",
        "        G.add_node(atom.GetIdx())\n",
        "    for bond in mol.GetBonds():\n",
        "        G.add_edge(bond.GetBeginAtomIdx(), bond.GetEndAtomIdx())\n",
        "    return G"
      ]
    },
    {
      "cell_type": "code",
      "execution_count": null,
      "metadata": {
        "id": "5T-1_UiFbAXg"
      },
      "outputs": [],
      "source": [
        "def edge_density(G):\n",
        "    n = G.number_of_nodes()\n",
        "    m = G.number_of_edges()\n",
        "    if n <= 1:\n",
        "        return 0\n",
        "    return (2 * m) / (n * (n - 1))"
      ]
    },
    {
      "cell_type": "code",
      "execution_count": null,
      "metadata": {
        "id": "ZQmt7ejwbAXg"
      },
      "outputs": [],
      "source": [
        "def wiener_index(G):\n",
        "    lengths = dict(nx.all_pairs_shortest_path_length(G))\n",
        "    total = sum(dist for src in lengths for dist in lengths[src].values())\n",
        "    return total // 2"
      ]
    },
    {
      "cell_type": "code",
      "execution_count": null,
      "metadata": {
        "id": "mdgBZQoubAXg"
      },
      "outputs": [],
      "source": [
        "def petitjean_index(G):\n",
        "    if not nx.is_connected(G):\n",
        "        return None\n",
        "    eccentricities = nx.eccentricity(G)\n",
        "    diameter = max(eccentricities.values())\n",
        "    radius = min(eccentricities.values())\n",
        "    if diameter == 0:\n",
        "        return 0\n",
        "    return (diameter - radius) / diameter"
      ]
    },
    {
      "cell_type": "code",
      "execution_count": null,
      "metadata": {
        "id": "SPAaHdakbAXh"
      },
      "outputs": [],
      "source": [
        "def calculate_indices(molecules, index_choice):\n",
        "    for name, cid, mol in molecules:\n",
        "        G = mol_to_graph(mol)\n",
        "\n",
        "        print(f'\\n{name} (PubChem CID: {cid}):')\n",
        "        if index_choice in ('edge', 'all'):\n",
        "            print(f'  Edge Density: {edge_density(G):.4f}')\n",
        "        if index_choice in ('wiener', 'all'):\n",
        "            print(f'  Wiener Index: {wiener_index(G)}')\n",
        "        if index_choice in ('petitjean', 'all'):\n",
        "            pj = petitjean_index(G)\n",
        "            if pj is not None:\n",
        "                print(f'  Petitjean Index: {pj:.4f}')\n",
        "            else:\n",
        "                print('  Petitjean Index: Cannot be computed (molecule may be disconnected)')\n",
        "\n",
        "        # Display the 2D structure\n",
        "        display(Draw.MolToImage(mol, size=(300, 300)))\n"
      ]
    },
    {
      "cell_type": "markdown",
      "source": [
        "###MAIN"
      ],
      "metadata": {
        "id": "cuyCatNQm1xx"
      }
    },
    {
      "cell_type": "markdown",
      "source": [
        "Additional ideas / Things to fix\n",
        "1. retry every possibility (one mol, one sdf, one sdf with many comp, one homo zip, one hetero zip, multiple files uploaded)\n",
        "2. add a bit more in the output maybe a link to the pubchem page\n",
        "3. fix a bit the output to make it prettier"
      ],
      "metadata": {
        "id": "vXtZlmH42wAs"
      }
    },
    {
      "cell_type": "code",
      "execution_count": null,
      "metadata": {
        "id": "yP141xgDbAXh"
      },
      "outputs": [],
      "source": [
        "def main():\n",
        "    input_path, input_type, cid_mol_list = get_input_path()\n",
        "    index_choice = get_index_choice()\n",
        "\n",
        "    if cid_mol_list:  # from PubChem\n",
        "        molecules = cid_mol_list\n",
        "    else:  # from file or folder\n",
        "        molecules = read_molecules(input_path, input_type)\n",
        "\n",
        "    calculate_indices(molecules, index_choice)\n",
        "\n",
        "main()"
      ]
    }
  ]
}