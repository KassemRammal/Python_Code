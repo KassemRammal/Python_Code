{
 "cells": [
  {
   "cell_type": "markdown",
   "metadata": {},
   "source": [
    "# Topological Index Calculator\n",
    "This notebook calculates different topological indices (Edge Density, Wiener Index, Petitjean Index) from molecular structures."
   ]
  },
  {
   "cell_type": "code",
   "execution_count": 1,
   "metadata": {},
   "outputs": [],
   "source": [
   "!pip install rdkit-pypi\n",
   "import os\n",
    "import sys\n",
    "import requests\n",
    "from urllib.parse import urlparse\n",
    "from rdkit import Chem\n",
    "from rdkit.Chem import AllChem\n",
    "import networkx as nx"
   ]
  },
  {
   "cell_type": "markdown",
   "metadata": {},
   "source": [
    "### Function 1: get_index_choice\n",
    "It ask the user: **\"Hello *USER*! Kindly give me a VALID index to calculate.\"** "
   ]
  },
  {
   "cell_type": "code",
   "execution_count": 2,
   "metadata": {},
   "outputs": [],
   "source": [
    "def get_index_choice():\n",
    "    while True:\n",
    "        print('Which topological index would you like to calculate?')\n",
    "        print('1 - Edge Density')\n",
    "        print('2 - Wiener Index')\n",
    "        print('3 - Petitjean Index')\n",
    "        print('4 - All of the above')\n",
    "\n",
    "        choice = input('Enter your choice (1-4): ').strip()\n",
    "\n",
    "        options = {\n",
    "            '1': 'edge',\n",
    "            '2': 'wiener',\n",
    "            '3': 'petitjean',\n",
    "            '4': 'all'\n",
    "        }\n",
    "\n",
    "        selected = options.get(choice)\n",
    "        if selected:\n",
    "            return selected\n",
    "        print('Invalid choice. Please select 1, 2, 3, or 4.')\n"
   ]
  },
  {
   "cell_type": "markdown",
   "metadata": {},
   "source": [
    "### Function 2: get_input_path\n",
    "It ask the user: **\"*USER!* Give me a path to .mol file or .sdf file or a folder to take the data from and calculate your desired index.\"**"
   ]
  },
  {
   "cell_type": "code",
   "execution_count": 3,
   "metadata": {},
   "outputs": [],
   "source": [
    "def get_input_path():\n",
    "    input_path = input('Enter the path to a .mol file, a folder of .mol files, or a .sdf file, or a URL: ').strip()\n",
    "\n",
    "    if input_path.startswith('http'):\n",
    "        return download_from_url(input_path)\n",
    "    elif os.path.exists(input_path):\n",
    "        return input_path\n",
    "    else:\n",
    "        print('The specified path does not exist.')\n",
    "        sys.exit(1)\n"
   ]
  },
  {
   "cell_type": "markdown",
   "metadata": {},
   "source": [
    "### Function 3: download_from_url\n",
    "Suppose the ***USER*** enter a URL, hmmm! Easy, This function comes in this scenario and fetch or open the URL in order to read its content."
   ]
  },
  {
   "cell_type": "code",
   "execution_count": 4,
   "metadata": {},
   "outputs": [],
   "source": [
    "def download_from_url(url):\n",
    "    \"\"\"\n",
    "    Downloads a file from the given URL and returns the file path.\n",
    "    If the URL is invalid or file cannot be downloaded, raises an error.\n",
    "    \"\"\"\n",
    "    try:\n",
    "        filename = os.path.basename(urlparse(url).path)\n",
    "        response = requests.get(url)\n",
    "        if response.status_code == 200:\n",
    "            with open(filename, 'wb') as file:\n",
    "                file.write(response.content)\n",
    "            print(f'File downloaded: {filename}')\n",
    "            return filename\n",
    "        else:\n",
    "            print(f'Failed to download file. Status code: {response.status_code}')\n",
    "            sys.exit(1)\n",
    "    except Exception as e:\n",
    "        print(f'Error downloading the file: {e}')\n",
    "        sys.exit(1)\n"
   ]
  },
  {
   "cell_type": "markdown",
   "metadata": {},
   "source": [
    "### Function 4: detect_input_type\n",
    "The **USER** has the freedom to enter a file with a specific type. This function does the following:\n",
    "  - Identifies the type of the input (whether it's a file, folder, or URL),\n",
    "  - Takes the appropriate processing steps."
  ]
  },
  {
   "cell_type": "code",
   "execution_count": 5,
   "metadata": {},
   "outputs": [],
   "source": [
    "def detect_input_type(input_path):\n",
    "    if os.path.isdir(input_path):\n",
    "        return 'mol_folder'\n",
    "    elif input_path.endswith('MOL'):\n",
    "        return 'mol_file'\n",
    "    elif input_path.endswith('SDF'):\n",
    "        return 'sdf_file'\n",
    "    else:\n",
    "        print('Unsupported file type. Please provide a .mol file, folder, or .sdf file.')\n",
    "        sys.exit(1)\n"
   ]
  },
  {
   "cell_type": "markdown",
   "metadata": {},
   "source": [
    "### Example Usage\n",
    "The following code demonstrates how to use the functions to select an index, input a file or folder, and determine the file type. It also shows how to combine all functions to compute the selected topological index."
   ]
  },
  {
    "cell_type": "code",
    "execution_count": 6,
    "metadata": {},
    "outputs": [],
    "source": [
    "def read_molecules(input_path, input_type):\n",
    "    molecules = []\n",
    "    if input_type == 'mol_file':\n",
    "        mol = Chem.MolFromMolFile(input_path)\n",
    "        if mol:\n",
    "            name = mol.GetProp('_Name') if mol.HasProp('_Name') else os.path.basename(input_path)\n",
    "            molecules.append((name, mol))\n",
    "    elif input_type == 'mol_folder':\n",
    "        for filename in os.listdir(input_path):\n",
    "            if filename.lower().endswith('.mol'):\n",
    "                full_path = os.path.join(input_path, filename)\n",
    "                mol = Chem.MolFromMolFile(full_path)\n",
    "                if mol:\n",
    "                    name = mol.GetProp('_Name') if mol.HasProp('_Name') else filename\n",
    "                    molecules.append((name, mol))\n",
    "    elif input_type == 'sdf_file':\n",
    "        suppl = Chem.SDMolSupplier(input_path)\n",
    "        for i, mol in enumerate(suppl):\n",
    "            if mol:\n",
    "                name = mol.GetProp('_Name') if mol.HasProp('_Name') else f'molecule_{i+1}'\n",
    "                molecules.append((name, mol))\n",
    "    return molecules"
  ]
  },
  {
    "cell_type": "code",
    "execution_count": 7,
    "metadata": {},
    "outputs": [],
    "source": [
      "def mol_to_graph(mol):\n",
      "    G = nx.Graph()\n",
      "    for atom in mol.GetAtoms():\n",
      "        G.add_node(atom.GetIdx())\n",
      "    for bond in mol.GetBonds():\n",
      "        G.add_edge(bond.GetBeginAtomIdx(), bond.GetEndAtomIdx())\n",
      "    return G"
    ]
  },
  {
    "cell_type": "code",
    "execution_count": 8,
    "metadata": {},
    "outputs": [],
    "source": [
      "def edge_density(G):\n",
      "    n = G.number_of_nodes()\n",
      "    m = G.number_of_edges()\n",
      "    if n <= 1:\n",
      "        return 0\n",
      "    return (2 * m) / (n * (n - 1))"
    ]
  },
  {
    "cell_type": "code",
    "execution_count": 9,
    "metadata": {},
    "outputs": [],
    "source": [
      "def wiener_index(G):\n",
      "    lengths = dict(nx.all_pairs_shortest_path_length(G))\n",
      "    total = sum(dist for src in lengths for dist in lengths[src].values())\n",
      "    return total // 2"
    ]
  },
  {
    "cell_type": "code",
    "execution_count": 10,
    "metadata": {},
    "outputs": [],
    "source": [
      "def petitjean_index(G):\n",
      "    if not nx.is_connected(G):\n",
      "        return None\n",
      "    eccentricities = nx.eccentricity(G)\n",
      "    diameter = max(eccentricities.values())\n",
      "    radius = min(eccentricities.values())\n",
      "    if diameter == 0:\n",
      "        return 0\n",
      "    return (diameter - radius) / diameter"
    ]
  },
  {
    "cell_type": "code",
    "execution_count": 11,
    "metadata": {},
    "outputs": [],
    "source": [
      "def calculate_indices(molecules, index_choice):\n",
      "    for name, mol in molecules:\n",
      "        G = mol_to_graph(mol)\n",
      "        print(f'\\n{name}:')\n",
      "        if index_choice in ('edge', 'all'):\n",
      "            print(f'  Edge Density: {edge_density(G):.4f}')\n",
      "        if index_choice in ('wiener', 'all'):\n",
      "            print(f'  Wiener Index: {wiener_index(G)}')\n",
      "        if index_choice in ('petitjean', 'all'):\n",
      "            pj = petitjean_index(G)\n",
      "            if pj is not None:\n",
      "                print(f'  Petitjean Index: {pj:.4f}')\n",
      "            else:\n",
      "                print('  Petitjean Index: Cannot be computed (molecule may be disconnected)')"
    ]
  },
  {
    "cell_type": "code",
    "execution_count": 12,
    "metadata": {},
    "outputs": [],
    "source": [
      "def main():\n",
      "    index_choice = get_index_choice()\n",
      "    input_path = get_input_path()\n",
      "    input_type = detect_input_type(input_path)\n",
      "    molecules = read_molecules(input_path, input_type)\n",
      "    calculate_indices(molecules, index_choice)\n",
      "\n",
      "# Run the main program\n",
      "main()"
    ]
  }
],
 "metadata": {
  "kernelspec": {
   "display_name": "Python 3",
   "language": "python",
   "name": "python3"
  },
  "language_info": {
   "name": "python",
   "version": "3.9"
  }
 },
 "nbformat": 4,
 "nbformat_minor": 5
}
