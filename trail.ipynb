{
 "cells": [
  {
   "cell_type": "markdown",
   "metadata": {},
   "source": [
    "# Topological Index Calculator\n",
    "This notebook calculates different topological indices (Edge Density, Wiener Index, Petitjean Index) from molecular structures."
   ]
  },
  {
   "cell_type": "code",
   "execution_count": 1,
   "metadata": {},
   "outputs": [],
   "source": [
    "import os\n",
    "import sys\n"
   ]
  },
  {
   "cell_type": "code",
   "execution_count": 2,
   "metadata": {},
   "outputs": [],
   "source": [
    "def get_index_choice():\n",
    "    while True:\n",
    "        print('Which topological index would you like to calculate?')\n",
    "        print('1 - Edge Density')\n",
    "        print('2 - Wiener Index')\n",
    "        print('3 - Petitjean Index')\n",
    "        print('4 - All of the above')\n",
    "\n",
    "        choice = input('Enter your choice (1-4): ').strip()\n",
    "\n",
    "        options = {\n",
    "            '1': 'edge',\n",
    "            '2': 'wiener',\n",
    "            '3': 'petitjean',\n",
    "            '4': 'all'\n",
    "        }\n",
    "\n",
    "        selected = options.get(choice)\n",
    "        if selected:\n",
    "            return selected\n",
    "        print('Invalid choice. Please select 1, 2, 3, or 4.')\n"
   ]
  }
 ],
 "metadata": {
  "kernelspec": {
   "display_name": "Python 3",
   "language": "python",
   "name": "python3"
  },
  "language_info": {
   "codemirror_mode": {
    "name": "ipython",
    "version": 3
   },
   "file_extension": ".py",
   "mimetype": "text/x-python",
   "name": "python",
   "nbconvert_exporter": "python",
   "version": "3.8.5"
  }
 },
 "nbformat": 4,
 "nbformat_minor": 5
}
