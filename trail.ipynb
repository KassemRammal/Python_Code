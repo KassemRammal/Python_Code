{
 "cells": [
  {
   "cell_type": "markdown",
   "metadata": {},
   "source": [
    "# Topological Index Calculator\n",
    "This notebook calculates different topological indices (Edge Density, Wiener Index, Petitjean Index) from molecular structures."
   ]
  },
  {
   "cell_type": "code",
   "execution_count": 1,
   "metadata": {},
   "outputs": [],
   "source": [
    "import os\n",
    "import sys\n",
    "import requests\n",
    "from urllib.parse import urlparse\n"
   ]
  },
  {
   "cell_type": "markdown",
   "metadata": {},
   "source": [
    "### Function 1: get_index_choice\n",
    "It ask the user: **\"USER! KINDLY GIVE ME AN INDEX TO CALCULATE\"** "
   ]
  },
  {
   "cell_type": "code",
   "execution_count": 2,
   "metadata": {},
   "outputs": [],
   "source": [
    "def get_index_choice():\n",
    "    while True:\n",
    "        print('Which topological index would you like to calculate?')\n",
    "        print('1 - Edge Density')\n",
    "        print('2 - Wiener Index')\n",
    "        print('3 - Petitjean Index')\n",
    "        print('4 - All of the above')\n",
    "\n",
    "        choice = input('Enter your choice (1-4): ').strip()\n",
    "\n",
    "        options = {\n",
    "            '1': 'edge',\n",
    "            '2': 'wiener',\n",
    "            '3': 'petitjean',\n",
    "            '4': 'all'\n",
    "        }\n",
    "\n",
    "        selected = options.get(choice)\n",
    "        if selected:\n",
    "            return selected\n",
    "        print('Invalid choice. Please select 1, 2, 3, or 4.')\n"
   ]
  },
  {
   "cell_type": "markdown",
   "metadata": {},
   "source": [
    "### Function 2: get_input_path\n",
    "This function is responsible for accepting the path to a file or folder from the user. It checks if the file or folder exists, ensuring that the program does not attempt to process non-existing paths. This function is essential for proper file handling in the script, especially when the input could be either a single file or a directory containing multiple files."
   ]
  },
  {
   "cell_type": "code",
   "execution_count": 3,
   "metadata": {},
   "outputs": [],
   "source": [
    "def get_input_path():\n",
    "    input_path = input('Enter the path to a .mol file, a folder of .mol files, or a .sdf file, or a URL: ').strip()\n",
    "\n",
    "    if input_path.startswith('http'):\n",
    "        return download_from_url(input_path)\n",
    "    elif os.path.exists(input_path):\n",
    "        return input_path\n",
    "    else:\n",
    "        print('The specified path does not exist.')\n",
    "        sys.exit(1)\n"
   ]
  },
  {
   "cell_type": "markdown",
   "metadata": {},
   "source": [
    "### Function 3: download_from_url\n",
    "This function is essential for downloading files from URLs provided by the user. If the user provides a URL instead of a local path, the function will handle downloading the file and save it to the local machine. This function is important for ensuring that remote files can be processed by the script, which extends the utility of the tool beyond just local files."
   ]
  },
  {
   "cell_type": "code",
   "execution_count": 4,
   "metadata": {},
   "outputs": [],
   "source": [
    "def download_from_url(url):\n",
    "    \"\"\"\n",
    "    Downloads a file from the given URL and returns the file path.\n",
    "    If the URL is invalid or file cannot be downloaded, raises an error.\n",
    "    \"\"\"\n",
    "    try:\n",
    "        filename = os.path.basename(urlparse(url).path)\n",
    "        response = requests.get(url)\n",
    "        if response.status_code == 200:\n",
    "            with open(filename, 'wb') as file:\n",
    "                file.write(response.content)\n",
    "            print(f'File downloaded: {filename}')\n",
    "            return filename\n",
    "        else:\n",
    "            print(f'Failed to download file. Status code: {response.status_code}')\n",
    "            sys.exit(1)\n",
    "    except Exception as e:\n",
    "        print(f'Error downloading the file: {e}')\n",
    "        sys.exit(1)\n"
   ]
  },
  {
   "cell_type": "markdown",
   "metadata": {},
   "source": [
    "### Function 4: detect_input_type\n",
    "This function is responsible for identifying the type of input (whether it's a file, folder, or URL) so the appropriate processing steps can be followed. It is an important step to ensure that the program can correctly handle various input formats (e.g., single files, folders, or multiple structures in .sdf format). This enables the flexibility of the tool to process diverse molecular data sources."
   ]
  },
  {
   "cell_type": "code",
   "execution_count": 5,
   "metadata": {},
   "outputs": [],
   "source": [
    "def detect_input_type(input_path):\n",
    "    if os.path.isdir(input_path):\n",
    "        return 'mol_folder'\n",
    "    elif input_path.endswith('MOL:\n",
    "        return 'mol_file'\n",
    "    elif input_path.endswith('SDF'):\n",
    "        return 'sdf_file'\n",
    "    else:\n",
    "        print('Unsupported file type. Please provide a .mol file, folder, or .sdf file.')\n",
    "        sys.exit(1)\n"
   ]
  },
  {
   "cell_type": "markdown",
   "metadata": {},
   "source": [
    "### Example Usage\n",
    "The following code demonstrates how to use the functions to select an index, input a file or folder, and determine the file type. It also shows how to combine all functions to compute the selected topological index."
   ]
  },
  {
   "cell_type": "code",
   "execution_count": 6,
   "metadata": {},
   "outputs": [],
   "source": [
    "# Example usage:\n",
    "index_choice = get_index_choice()\n",
    "input_path = get_input_path()\n",
    "input_type = detect_input_type(input_path)\n",
    "\n",
    "print(f'Selected index: {index_choice}')\n",
    "print(f'Input path: {input_path}')\n",
    "print(f'Input type: {input_type}')"
   ]
  }
 ],
 "metadata": {
  "kernelspec": {
   "display_name": "Python 3",
   "language": "python",
   "name": "python3"
  },
  "language_info": {
   "codemirror_mode": {
    "name": "ipython",
    "version": 3
   },
   "file_extension": ".py",
   "mimetype": "text/x-python",
   "name": "python",
   "nbconvert_exporter": "python",
   "version": "3.8.5"
  }
 },
 "nbformat": 4,
 "nbformat_minor": 5
}
